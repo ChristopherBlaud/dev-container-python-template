{
 "cells": [
  {
   "cell_type": "markdown",
   "metadata": {},
   "source": [
    "# Import & config"
   ]
  },
  {
   "cell_type": "code",
   "execution_count": 2,
   "metadata": {},
   "outputs": [],
   "source": [
    "import requests, os, time\n",
    "import pandas as pd\n",
    "from bs4 import BeautifulSoup\n",
    "from utils.countries_infos import get_countries\n",
    "\n",
    "headers = {'User-Agent': 'Mozilla/5.0 (Macintosh; Intel Mac OS X 10_15_7) AppleWebKit/537.36 (KHTML, like Gecko) Chrome/131.0.0.0 Safari/537.36'}"
   ]
  },
  {
   "cell_type": "markdown",
   "metadata": {},
   "source": [
    "## Store all countries in a variable"
   ]
  },
  {
   "cell_type": "code",
   "execution_count": 3,
   "metadata": {},
   "outputs": [],
   "source": [
    "countries = get_countries()"
   ]
  },
  {
   "cell_type": "markdown",
   "metadata": {},
   "source": [
    "# Extract data from url"
   ]
  },
  {
   "cell_type": "code",
   "execution_count": 4,
   "metadata": {},
   "outputs": [],
   "source": [
    "def extract_health_care(country):\n",
    "  res = requests.get(country[\"health-care-url\"], headers=headers)\n",
    "  soup = BeautifulSoup(res.content, 'html.parser')\n",
    "\n",
    "  table = soup.find(\"table\", class_=\"table_builder_with_value_explanation data_wide_table\")\n",
    "  component_elements = table.select(\"td.columnWithName\")\n",
    "  percentage_elements = table.select(\"td.indexValueTd\")\n",
    "  \n",
    "  locations = [country[\"name\"] for component in component_elements]\n",
    "  components = [component.text for component in component_elements]\n",
    "  percentages = [percentage.text.split(\"\\n\")[0] for percentage in percentage_elements]\n",
    "\n",
    "  return locations, components, percentages"
   ]
  },
  {
   "cell_type": "markdown",
   "metadata": {},
   "source": [
    "## Create csv file with data of countries"
   ]
  },
  {
   "cell_type": "code",
   "execution_count": 5,
   "metadata": {},
   "outputs": [],
   "source": [
    "def create_csv(countries):\n",
    "  d = { \"Country\": [], \"Component of health care surveyed\": [], \"Satisfaction\": [] }\n",
    "\n",
    "  for country in countries:\n",
    "    print(f\"Data for {country['name']} in loading ...\")\n",
    "    data = extract_health_care(country)\n",
    "\n",
    "    country_names = data[0]\n",
    "    components = data[1]\n",
    "    percentages = data[2]\n",
    "\n",
    "    d[\"Country\"].extend(country_names)\n",
    "    d[\"Component of health care surveyed\"].extend(components)\n",
    "    d[\"Satisfaction\"].extend(percentages)\n",
    "\n",
    "\n",
    "  df = pd.DataFrame(data=d)\n",
    "  df.to_csv(os.path.join('bronze_data/', 'health_care.csv'), index=False)\n",
    "\n"
   ]
  },
  {
   "cell_type": "code",
   "execution_count": null,
   "metadata": {},
   "outputs": [],
   "source": [
    "create_csv(countries)"
   ]
  }
 ],
 "metadata": {
  "kernelspec": {
   "display_name": "Python 3",
   "language": "python",
   "name": "python3"
  },
  "language_info": {
   "codemirror_mode": {
    "name": "ipython",
    "version": 3
   },
   "file_extension": ".py",
   "mimetype": "text/x-python",
   "name": "python",
   "nbconvert_exporter": "python",
   "pygments_lexer": "ipython3",
   "version": "3.12.9"
  }
 },
 "nbformat": 4,
 "nbformat_minor": 2
}
