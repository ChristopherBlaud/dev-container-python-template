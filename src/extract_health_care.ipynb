{
 "cells": [
  {
   "cell_type": "markdown",
   "metadata": {},
   "source": [
    "# Import & config"
   ]
  },
  {
   "cell_type": "code",
   "execution_count": null,
   "metadata": {},
   "outputs": [
    {
     "ename": "",
     "evalue": "",
     "output_type": "error",
     "traceback": [
      "\u001b[1;31mLes cellules en cours d’exécution avec Python 3.12.8 nécessitent le package ipykernel.\n",
      "\u001b[1;31mExécutez la commande suivante pour installer 'ipykernel' dans l’environnement Python. \n",
      "\u001b[1;31mCommande : '/usr/bin/python3 -m pip install ipykernel -U --user --force-reinstall'"
     ]
    }
   ],
   "source": [
    "import requests\n",
    "import os\n",
    "import pandas as pd\n",
    "from bs4 import BeautifulSoup\n",
    "from utils.countries_infos import get_countries\n",
    "\n",
    "headers = {'User-Agent': 'Mozilla/5.0 (Macintosh; Intel Mac OS X 10_15_7) AppleWebKit/537.36 (KHTML, like Gecko) Chrome/131.0.0.0 Safari/537.36'}"
   ]
  },
  {
   "cell_type": "markdown",
   "metadata": {},
   "source": [
    "### 1. Get all countries"
   ]
  },
  {
   "cell_type": "code",
   "execution_count": null,
   "metadata": {},
   "outputs": [],
   "source": [
    "countries = get_countries()[:5]"
   ]
  },
  {
   "cell_type": "markdown",
   "metadata": {},
   "source": [
    "### 2. Extract data"
   ]
  },
  {
   "cell_type": "code",
   "execution_count": null,
   "metadata": {},
   "outputs": [],
   "source": [
    "def extract_health_care(location):\n",
    "  res = requests.get(location[\"health-care-url\"], headers=headers)\n",
    "  soup = BeautifulSoup(res.content, 'html.parser')\n",
    "\n",
    "  table = soup.find(\"table\", class_=\"table_builder_with_value_explanation data_wide_table\")\n",
    "  component_elements = table.select('td.columnWithName')\n",
    "  percentage_elements = table.select('td.indexValueTd')\n",
    "  \n",
    "  locations = [location for component in component_elements]\n",
    "  components = [component.text for component in component_elements]\n",
    "  percentages = [percentage.text.split(\"\\n\")[0] for percentage in percentage_elements]\n",
    "\n",
    "  return locations, components, percentages"
   ]
  },
  {
   "cell_type": "markdown",
   "metadata": {},
   "source": [
    "### 3. Create csv file with data of countries"
   ]
  },
  {
   "cell_type": "code",
   "execution_count": null,
   "metadata": {},
   "outputs": [],
   "source": [
    "def create_csv(countries):\n",
    "  d = { \"Country\": [], \"Component of health care surveyed\": [], \"Satisfaction\": [] }\n",
    "\n",
    "  for country in countries:\n",
    "    print(f\"Data for {country['name']} in loading ...\")\n",
    "    data = extract_health_care(country)\n",
    "\n",
    "    country_names = data[0]\n",
    "    components = data[1]\n",
    "    percentages = data[2]\n",
    "\n",
    "    d[\"Country\"].extend(country_names)\n",
    "    d[\"Component of health care surveyed\"].extend(components)\n",
    "    d[\"Satisfaction\"].extend(percentages)\n",
    "\n",
    "\n",
    "  df = pd.DataFrame(data=d)\n",
    "  df.to_csv(os.path.join('bronze_data/', 'health.csv'), index=False)\n",
    "\n"
   ]
  },
  {
   "cell_type": "code",
   "execution_count": null,
   "metadata": {},
   "outputs": [],
   "source": [
    "create_csv(countries)"
   ]
  }
 ],
 "metadata": {
  "kernelspec": {
   "display_name": "Python 3",
   "language": "python",
   "name": "python3"
  },
  "language_info": {
   "codemirror_mode": {
    "name": "ipython",
    "version": 3
   },
   "file_extension": ".py",
   "mimetype": "text/x-python",
   "name": "python",
   "nbconvert_exporter": "python",
   "pygments_lexer": "ipython3",
   "version": "3.12.8"
  }
 },
 "nbformat": 4,
 "nbformat_minor": 2
}
