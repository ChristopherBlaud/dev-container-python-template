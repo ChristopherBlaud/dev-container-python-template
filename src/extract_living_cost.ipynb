{
 "cells": [
  {
   "cell_type": "markdown",
   "metadata": {},
   "source": [
    "# Import & config"
   ]
  },
  {
   "cell_type": "code",
   "execution_count": 1,
   "metadata": {},
   "outputs": [],
   "source": [
    "import requests\n",
    "import os\n",
    "import pandas as pd\n",
    "from bs4 import BeautifulSoup\n",
    "from utils.countries_infos import get_countries\n",
    "\n",
    "headers = {'User-Agent': 'Mozilla/5.0 (Macintosh; Intel Mac OS X 10_15_7) AppleWebKit/537.36 (KHTML, like Gecko) Chrome/131.0.0.0 Safari/537.36'}"
   ]
  },
  {
   "cell_type": "code",
   "execution_count": 2,
   "metadata": {},
   "outputs": [],
   "source": [
    "countries = get_countries()[:10]"
   ]
  },
  {
   "cell_type": "markdown",
   "metadata": {},
   "source": [
    "### 1. Extract data"
   ]
  },
  {
   "cell_type": "code",
   "execution_count": 3,
   "metadata": {},
   "outputs": [],
   "source": [
    "def extract_cost_of_living(currency, country_infos):\n",
    "  res = requests.get(country_infos['cost-of-living-url'], headers=headers)\n",
    "  soup = BeautifulSoup(res.content, 'html.parser')\n",
    "\n",
    "  rows = soup.select('table.data_wide_table.new_bar_table > tr:has(.priceValue)')\n",
    "\n",
    "  locations = []\n",
    "  names = []\n",
    "  prices = []\n",
    "\n",
    "  for tr in rows:\n",
    "    for row in tr.contents:\n",
    "      if row.text == \" \":\n",
    "        tr.contents.remove(row)\n",
    "\n",
    "    name = tr.contents[0].text.strip()\n",
    "    price = tr.contents[1].text.replace(\"\\xa0€\", \"\").strip()\n",
    "\n",
    "    locations.append(country_infos['name'])\n",
    "    names.append(name)\n",
    "    prices.append(price)\n",
    "  \n",
    "  return locations, names, prices"
   ]
  },
  {
   "cell_type": "markdown",
   "metadata": {},
   "source": [
    "### 2. Create csv file with data of countries"
   ]
  },
  {
   "cell_type": "code",
   "execution_count": 4,
   "metadata": {},
   "outputs": [],
   "source": [
    "def create_csv(countries):\n",
    "  d = { \"Country\": [], \"Name\": [], \"Price\": [] }\n",
    "\n",
    "  for country in countries:\n",
    "    print(f\"Data for {country['name']} in loading ...\")\n",
    "    data = extract_cost_of_living(\"USD\", country)\n",
    "\n",
    "    country_names = data[0]\n",
    "    items = data[1]\n",
    "    prices = data[2]\n",
    "\n",
    "    d[\"Country\"].extend(country_names)\n",
    "    d[\"Name\"].extend(items)\n",
    "    d[\"Price\"].extend(prices)\n",
    "\n",
    "\n",
    "  df = pd.DataFrame(data=d)\n",
    "  df.to_csv(os.path.join('bronze_data/', 'living_coast.csv'), index=False)\n",
    "\n"
   ]
  },
  {
   "cell_type": "code",
   "execution_count": 5,
   "metadata": {},
   "outputs": [
    {
     "name": "stdout",
     "output_type": "stream",
     "text": [
      "Data for Afghanistan in loading ...\n",
      "Data for Aland Islands in loading ...\n",
      "Data for Albania in loading ...\n",
      "Data for Alderney in loading ...\n",
      "Data for Algeria in loading ...\n",
      "Data for American Samoa in loading ...\n",
      "Data for Andorra in loading ...\n",
      "Data for Angola in loading ...\n",
      "Data for Anguilla in loading ...\n",
      "Data for Antigua And Barbuda in loading ...\n"
     ]
    }
   ],
   "source": [
    "create_csv(countries)"
   ]
  }
 ],
 "metadata": {
  "kernelspec": {
   "display_name": "Python 3",
   "language": "python",
   "name": "python3"
  },
  "language_info": {
   "codemirror_mode": {
    "name": "ipython",
    "version": 3
   },
   "file_extension": ".py",
   "mimetype": "text/x-python",
   "name": "python",
   "nbconvert_exporter": "python",
   "pygments_lexer": "ipython3",
   "version": "3.12.9"
  }
 },
 "nbformat": 4,
 "nbformat_minor": 2
}
