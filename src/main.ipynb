{
 "cells": [
  {
   "cell_type": "markdown",
   "metadata": {},
   "source": [
    "# Import & config"
   ]
  },
  {
   "cell_type": "code",
   "execution_count": 721,
   "metadata": {},
   "outputs": [],
   "source": [
    "import requests\n",
    "import time\n",
    "import os\n",
    "import re\n",
    "import pandas as pd\n",
    "from bs4 import BeautifulSoup\n",
    "\n",
    "headers = {'User-Agent': 'Mozilla/5.0 (Macintosh; Intel Mac OS X 10_15_7) AppleWebKit/537.36 (KHTML, like Gecko) Chrome/131.0.0.0 Safari/537.36'}"
   ]
  },
  {
   "cell_type": "markdown",
   "metadata": {},
   "source": [
    "### 1. Get all countries"
   ]
  },
  {
   "cell_type": "code",
   "execution_count": 722,
   "metadata": {},
   "outputs": [],
   "source": [
    "def get_countries():\n",
    "  url = \"https://www.numbeo.com/cost-of-living/\"\n",
    "  res = requests.get(url, headers=headers)\n",
    "  soup = BeautifulSoup(res.content, 'html.parser')\n",
    "\n",
    "  options = soup.select('#country > option')\n",
    "\n",
    "  countries = []\n",
    "  \n",
    "  for option in options:\n",
    "    if option.text != \"---Select country---\":\n",
    "      countries.append(option.text)\n",
    "  \n",
    "  return countries"
   ]
  },
  {
   "cell_type": "markdown",
   "metadata": {},
   "source": [
    "### 2. Extract data"
   ]
  },
  {
   "cell_type": "code",
   "execution_count": 723,
   "metadata": {},
   "outputs": [],
   "source": [
    "def extract_cost_of_living(currency, location):\n",
    "  url = f\"https://www.numbeo.com/cost-of-living/country_result.jsp?country={location.replace(\" \", \"+\")}&displayCurrency={currency}\"\n",
    "\n",
    "  print(url)\n",
    "\n",
    "  res = requests.get(url, headers=headers)\n",
    "  soup = BeautifulSoup(res.content, 'html.parser')\n",
    "\n",
    "  table = soup.select('table.data_wide_table.new_bar_table > tr:has(.priceValue)')\n",
    "\n",
    "  locations = []\n",
    "  names = []\n",
    "  prices = []\n",
    "\n",
    "  for tr in table:\n",
    "    for row in tr.contents:\n",
    "      if row.text == \" \":\n",
    "        tr.contents.remove(row)\n",
    "\n",
    "    name = tr.contents[0].text.strip()\n",
    "    price = tr.contents[1].text.replace(\"\\xa0€\", \"\").strip()\n",
    "\n",
    "    locations.append(location)\n",
    "    names.append(name)\n",
    "    prices.append(price)\n",
    "  \n",
    "  return locations, names, prices"
   ]
  },
  {
   "cell_type": "code",
   "execution_count": 724,
   "metadata": {},
   "outputs": [],
   "source": [
    "def create_csv():\n",
    "\n",
    "  countries = get_countries()\n",
    "\n",
    "  d = { \"Country\": [], \"Name\": [], \"Price\": [] }\n",
    "\n",
    "  for country in countries[0:2]:\n",
    "    data = extract_cost_of_living(\"USD\", country)\n",
    "\n",
    "    country_names = data[0]\n",
    "    items = data[1]\n",
    "    prices = data[2]\n",
    "\n",
    "    d[\"Country\"].extend(country_names)\n",
    "    d[\"Name\"].extend(items)\n",
    "    d[\"Price\"].extend(prices)\n",
    "\n",
    "\n",
    "  df = pd.DataFrame(data=d)\n",
    "  df.to_csv(os.path.join('data/', 'living_coast.csv'), index=False)\n",
    "\n"
   ]
  },
  {
   "cell_type": "code",
   "execution_count": 725,
   "metadata": {},
   "outputs": [
    {
     "name": "stdout",
     "output_type": "stream",
     "text": [
      "https://www.numbeo.com/cost-of-living/country_result.jsp?country=Afghanistan&displayCurrency=USD\n"
     ]
    },
    {
     "name": "stderr",
     "output_type": "stream",
     "text": [
      "/tmp/ipykernel_3819/1071666125.py:7: MarkupResemblesLocatorWarning: The input looks more like a filename than markup. You may want to open this file and pass the filehandle into Beautiful Soup.\n",
      "  soup = BeautifulSoup(res.content, 'html.parser')\n"
     ]
    },
    {
     "name": "stdout",
     "output_type": "stream",
     "text": [
      "https://www.numbeo.com/cost-of-living/country_result.jsp?country=Aland+Islands&displayCurrency=USD\n"
     ]
    }
   ],
   "source": [
    "create_csv()"
   ]
  }
 ],
 "metadata": {
  "kernelspec": {
   "display_name": "Python 3",
   "language": "python",
   "name": "python3"
  },
  "language_info": {
   "codemirror_mode": {
    "name": "ipython",
    "version": 3
   },
   "file_extension": ".py",
   "mimetype": "text/x-python",
   "name": "python",
   "nbconvert_exporter": "python",
   "pygments_lexer": "ipython3",
   "version": "3.12.8"
  }
 },
 "nbformat": 4,
 "nbformat_minor": 2
}
