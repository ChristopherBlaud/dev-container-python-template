{
 "cells": [
  {
   "cell_type": "markdown",
   "metadata": {},
   "source": [
    "## Import"
   ]
  },
  {
   "cell_type": "code",
   "execution_count": 1,
   "metadata": {},
   "outputs": [],
   "source": [
    "import os\n",
    "import pandas as pd"
   ]
  },
  {
   "cell_type": "code",
   "execution_count": 2,
   "metadata": {},
   "outputs": [],
   "source": [
    "df = pd.read_csv(\"silver_data/living_coast.csv\")\n",
    "\n",
    "countries = {}\n",
    "names = {}\n",
    "current_country = None\n",
    "\n",
    "for country in df['Country']:\n",
    "  if not country in countries.keys():\n",
    "    countries[country] = []\n",
    "\n",
    "\n",
    "for name in df['Name']:\n",
    "  if not name in names.keys():\n",
    "    names[name] = []\n",
    "\n",
    "\n",
    "for row in df.values:\n",
    "    country_value = row[0]\n",
    "    name_value = row[1]\n",
    "    price = row[2]\n",
    "\n",
    "    if current_country != country_value:\n",
    "        for country in countries:\n",
    "            countries[country].append(1 if country == country_value else 0)\n",
    "    \n",
    "    names[name_value].append(price)  \n",
    "    \n",
    "    current_country = country_value\n",
    "\n",
    "\n",
    "countries.update(names)\n",
    "new_df = pd.DataFrame(data=countries)\n",
    "new_df.to_csv(os.path.join('gold_data/', 'living_coast.csv'), index=False)"
   ]
  }
 ],
 "metadata": {
  "kernelspec": {
   "display_name": "Python 3",
   "language": "python",
   "name": "python3"
  },
  "language_info": {
   "codemirror_mode": {
    "name": "ipython",
    "version": 3
   },
   "file_extension": ".py",
   "mimetype": "text/x-python",
   "name": "python",
   "nbconvert_exporter": "python",
   "pygments_lexer": "ipython3",
   "version": "3.12.9"
  }
 },
 "nbformat": 4,
 "nbformat_minor": 2
}
