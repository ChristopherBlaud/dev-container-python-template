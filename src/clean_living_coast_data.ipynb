{
 "cells": [
  {
   "cell_type": "markdown",
   "metadata": {},
   "source": [
    "## Import"
   ]
  },
  {
   "cell_type": "code",
   "execution_count": 1,
   "metadata": {},
   "outputs": [],
   "source": [
    "import os\n",
    "import pandas as pd"
   ]
  },
  {
   "cell_type": "markdown",
   "metadata": {},
   "source": [
    "## Clean data"
   ]
  },
  {
   "cell_type": "code",
   "execution_count": 2,
   "metadata": {},
   "outputs": [],
   "source": [
    "df = pd.read_csv('bronze_data/living_coast.csv')\n",
    "\n",
    "df.drop(df[df['Price'] == '?'].index, inplace = True)\n",
    "df[\"Price\"] = df[\"Price\"].str.replace(r'\\D', \"\", regex=True).astype(float)\n",
    "\n",
    "countries = {}\n",
    "names_to_remove = [] \n",
    "\n",
    "for country in df['Country']:\n",
    "  if not country in countries.keys():\n",
    "    countries[country] = []\n",
    "    \n",
    "for name in df['Name']:\n",
    "  if len(df[df['Name'] == name]) != len(countries):\n",
    "    names_to_remove.append(name)\n",
    "\n",
    "for item in names_to_remove:\n",
    "  df.drop(df[df['Name'] == item].index, inplace = True)\n",
    "\n",
    "df.to_csv(os.path.join('silver_data/', 'living_coast.csv'), index=False)"
   ]
  }
 ],
 "metadata": {
  "kernelspec": {
   "display_name": "Python 3",
   "language": "python",
   "name": "python3"
  },
  "language_info": {
   "codemirror_mode": {
    "name": "ipython",
    "version": 3
   },
   "file_extension": ".py",
   "mimetype": "text/x-python",
   "name": "python",
   "nbconvert_exporter": "python",
   "pygments_lexer": "ipython3",
   "version": "3.12.9"
  }
 },
 "nbformat": 4,
 "nbformat_minor": 2
}
