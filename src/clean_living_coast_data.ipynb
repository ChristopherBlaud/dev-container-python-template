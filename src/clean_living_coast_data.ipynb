{
 "cells": [
  {
   "cell_type": "markdown",
   "metadata": {},
   "source": [
    "## Import & config"
   ]
  },
  {
   "cell_type": "code",
   "execution_count": 164,
   "metadata": {},
   "outputs": [],
   "source": [
    "import os, re\n",
    "import pandas as pd"
   ]
  },
  {
   "cell_type": "markdown",
   "metadata": {},
   "source": [
    "## Clean data & keep Rice only "
   ]
  },
  {
   "cell_type": "code",
   "execution_count": null,
   "metadata": {},
   "outputs": [],
   "source": [
    "df = pd.read_csv('data/living_coast.csv')\n",
    "\n",
    "df.drop(df[df['Price'] == '?'].index, inplace = True)\n",
    "df.drop(df[df['Name'] != 'Rice (white), (1kg)'].index, inplace = True)\n",
    "\n",
    "df[\"Price\"] = df[\"Price\"].str.replace(r'[,\\s$\\\"\\']', \"\", regex=True).astype(float)\n",
    "\n",
    "newdf = df.drop(\"Name\", axis='columns')\n",
    "\n",
    "newdf.to_csv(os.path.join('silver_data/', 'rice_coast.csv'), index=False)"
   ]
  }
 ],
 "metadata": {
  "kernelspec": {
   "display_name": "Python 3",
   "language": "python",
   "name": "python3"
  },
  "language_info": {
   "codemirror_mode": {
    "name": "ipython",
    "version": 3
   },
   "file_extension": ".py",
   "mimetype": "text/x-python",
   "name": "python",
   "nbconvert_exporter": "python",
   "pygments_lexer": "ipython3",
   "version": "3.12.9"
  }
 },
 "nbformat": 4,
 "nbformat_minor": 2
}
