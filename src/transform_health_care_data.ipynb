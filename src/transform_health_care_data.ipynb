{
 "cells": [
  {
   "cell_type": "markdown",
   "metadata": {},
   "source": [
    "## Import"
   ]
  },
  {
   "cell_type": "code",
   "execution_count": 1,
   "metadata": {},
   "outputs": [],
   "source": [
    "import os\n",
    "import pandas as pd\n",
    "\n",
    "df = pd.read_csv(\"silver_data/health_care.csv\")"
   ]
  },
  {
   "cell_type": "code",
   "execution_count": 2,
   "metadata": {},
   "outputs": [],
   "source": [
    "countries = {}\n",
    "components = {}\n",
    "current_country = None\n",
    "\n",
    "for country in df['Country']:\n",
    "  if not country in countries.keys():\n",
    "    countries[country] = []\n",
    "\n",
    "\n",
    "for component in df['Component of health care surveyed']:\n",
    "  if not component in components.keys():\n",
    "    components[component] = []\n",
    "\n",
    "\n",
    "for row in df.values:\n",
    "    country_value = row[0]\n",
    "    component_value = row[1]\n",
    "    satisfaction = row[2]\n",
    "\n",
    "    if current_country != country_value:\n",
    "        for country in countries:\n",
    "            countries[country].append(1 if country == country_value else 0)\n",
    "    \n",
    "    components[component_value].append(satisfaction)  \n",
    "    \n",
    "    current_country = country_value\n",
    "\n",
    "\n",
    "countries.update(components)\n",
    "new_df = pd.DataFrame(data=countries)\n",
    "new_df.to_csv(os.path.join('gold_data/', 'health_care.csv'), index=False)"
   ]
  }
 ],
 "metadata": {
  "kernelspec": {
   "display_name": "Python 3",
   "language": "python",
   "name": "python3"
  },
  "language_info": {
   "codemirror_mode": {
    "name": "ipython",
    "version": 3
   },
   "file_extension": ".py",
   "mimetype": "text/x-python",
   "name": "python",
   "nbconvert_exporter": "python",
   "pygments_lexer": "ipython3",
   "version": "3.12.9"
  }
 },
 "nbformat": 4,
 "nbformat_minor": 2
}
